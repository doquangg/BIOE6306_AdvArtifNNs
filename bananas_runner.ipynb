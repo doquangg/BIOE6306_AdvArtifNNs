{
  "cells": [
    {
      "cell_type": "markdown",
      "metadata": {
        "id": "view-in-github",
        "colab_type": "text"
      },
      "source": [
        "<a href=\"https://colab.research.google.com/github/doquangg/BIOE6306_AdvArtifNNs/blob/master/bananas_runner.ipynb\" target=\"_parent\"><img src=\"https://colab.research.google.com/assets/colab-badge.svg\" alt=\"Open In Colab\"/></a>"
      ]
    },
    {
      "cell_type": "code",
      "execution_count": 1,
      "metadata": {
        "id": "OCmXEVbxp2HA",
        "outputId": "e3d4f7c5-cc7b-4a65-c278-af4e60eea4fa",
        "colab": {
          "base_uri": "https://localhost:8080/"
        }
      },
      "outputs": [
        {
          "output_type": "stream",
          "name": "stdout",
          "text": [
            "Collecting voila\n",
            "  Downloading voila-0.5.8-py3-none-any.whl.metadata (9.5 kB)\n",
            "Collecting jupyter-client<9,>=7.4.4 (from voila)\n",
            "  Downloading jupyter_client-8.6.3-py3-none-any.whl.metadata (8.3 kB)\n",
            "Requirement already satisfied: jupyter-core>=4.11.0 in /usr/local/lib/python3.11/dist-packages (from voila) (5.7.2)\n",
            "Requirement already satisfied: jupyter-server<3,>=1.18 in /usr/local/lib/python3.11/dist-packages (from voila) (1.24.0)\n",
            "Collecting jupyterlab-server<3,>=2.3.0 (from voila)\n",
            "  Downloading jupyterlab_server-2.27.3-py3-none-any.whl.metadata (5.9 kB)\n",
            "Requirement already satisfied: nbclient>=0.4.0 in /usr/local/lib/python3.11/dist-packages (from voila) (0.10.2)\n",
            "Requirement already satisfied: nbconvert<8,>=6.4.5 in /usr/local/lib/python3.11/dist-packages (from voila) (7.16.5)\n",
            "Requirement already satisfied: traitlets<6,>=5.0.3 in /usr/local/lib/python3.11/dist-packages (from voila) (5.7.1)\n",
            "Requirement already satisfied: websockets>=9.0 in /usr/local/lib/python3.11/dist-packages (from voila) (14.2)\n",
            "Requirement already satisfied: python-dateutil>=2.8.2 in /usr/local/lib/python3.11/dist-packages (from jupyter-client<9,>=7.4.4->voila) (2.8.2)\n",
            "Requirement already satisfied: pyzmq>=23.0 in /usr/local/lib/python3.11/dist-packages (from jupyter-client<9,>=7.4.4->voila) (24.0.1)\n",
            "Requirement already satisfied: tornado>=6.2 in /usr/local/lib/python3.11/dist-packages (from jupyter-client<9,>=7.4.4->voila) (6.3.3)\n",
            "Requirement already satisfied: platformdirs>=2.5 in /usr/local/lib/python3.11/dist-packages (from jupyter-core>=4.11.0->voila) (4.3.6)\n",
            "Requirement already satisfied: anyio<4,>=3.1.0 in /usr/local/lib/python3.11/dist-packages (from jupyter-server<3,>=1.18->voila) (3.7.1)\n",
            "Requirement already satisfied: argon2-cffi in /usr/local/lib/python3.11/dist-packages (from jupyter-server<3,>=1.18->voila) (23.1.0)\n",
            "Requirement already satisfied: jinja2 in /usr/local/lib/python3.11/dist-packages (from jupyter-server<3,>=1.18->voila) (3.1.5)\n",
            "Requirement already satisfied: nbformat>=5.2.0 in /usr/local/lib/python3.11/dist-packages (from jupyter-server<3,>=1.18->voila) (5.10.4)\n",
            "Requirement already satisfied: packaging in /usr/local/lib/python3.11/dist-packages (from jupyter-server<3,>=1.18->voila) (24.2)\n",
            "Requirement already satisfied: prometheus-client in /usr/local/lib/python3.11/dist-packages (from jupyter-server<3,>=1.18->voila) (0.21.1)\n",
            "Requirement already satisfied: Send2Trash in /usr/local/lib/python3.11/dist-packages (from jupyter-server<3,>=1.18->voila) (1.8.3)\n",
            "Requirement already satisfied: terminado>=0.8.3 in /usr/local/lib/python3.11/dist-packages (from jupyter-server<3,>=1.18->voila) (0.18.1)\n",
            "Requirement already satisfied: websocket-client in /usr/local/lib/python3.11/dist-packages (from jupyter-server<3,>=1.18->voila) (1.8.0)\n",
            "Requirement already satisfied: babel>=2.10 in /usr/local/lib/python3.11/dist-packages (from jupyterlab-server<3,>=2.3.0->voila) (2.16.0)\n",
            "Collecting json5>=0.9.0 (from jupyterlab-server<3,>=2.3.0->voila)\n",
            "  Downloading json5-0.10.0-py3-none-any.whl.metadata (34 kB)\n",
            "Requirement already satisfied: jsonschema>=4.18.0 in /usr/local/lib/python3.11/dist-packages (from jupyterlab-server<3,>=2.3.0->voila) (4.23.0)\n",
            "Requirement already satisfied: requests>=2.31 in /usr/local/lib/python3.11/dist-packages (from jupyterlab-server<3,>=2.3.0->voila) (2.32.3)\n",
            "Requirement already satisfied: beautifulsoup4 in /usr/local/lib/python3.11/dist-packages (from nbconvert<8,>=6.4.5->voila) (4.12.3)\n",
            "Requirement already satisfied: bleach!=5.0.0 in /usr/local/lib/python3.11/dist-packages (from bleach[css]!=5.0.0->nbconvert<8,>=6.4.5->voila) (6.2.0)\n",
            "Requirement already satisfied: defusedxml in /usr/local/lib/python3.11/dist-packages (from nbconvert<8,>=6.4.5->voila) (0.7.1)\n",
            "Requirement already satisfied: jupyterlab-pygments in /usr/local/lib/python3.11/dist-packages (from nbconvert<8,>=6.4.5->voila) (0.3.0)\n",
            "Requirement already satisfied: markupsafe>=2.0 in /usr/local/lib/python3.11/dist-packages (from nbconvert<8,>=6.4.5->voila) (3.0.2)\n",
            "Requirement already satisfied: mistune<4,>=2.0.3 in /usr/local/lib/python3.11/dist-packages (from nbconvert<8,>=6.4.5->voila) (3.1.0)\n",
            "Requirement already satisfied: pandocfilters>=1.4.1 in /usr/local/lib/python3.11/dist-packages (from nbconvert<8,>=6.4.5->voila) (1.5.1)\n",
            "Requirement already satisfied: pygments>=2.4.1 in /usr/local/lib/python3.11/dist-packages (from nbconvert<8,>=6.4.5->voila) (2.18.0)\n",
            "Requirement already satisfied: idna>=2.8 in /usr/local/lib/python3.11/dist-packages (from anyio<4,>=3.1.0->jupyter-server<3,>=1.18->voila) (3.10)\n",
            "Requirement already satisfied: sniffio>=1.1 in /usr/local/lib/python3.11/dist-packages (from anyio<4,>=3.1.0->jupyter-server<3,>=1.18->voila) (1.3.1)\n",
            "Requirement already satisfied: webencodings in /usr/local/lib/python3.11/dist-packages (from bleach!=5.0.0->bleach[css]!=5.0.0->nbconvert<8,>=6.4.5->voila) (0.5.1)\n",
            "Requirement already satisfied: tinycss2<1.5,>=1.1.0 in /usr/local/lib/python3.11/dist-packages (from bleach[css]!=5.0.0->nbconvert<8,>=6.4.5->voila) (1.4.0)\n",
            "Requirement already satisfied: attrs>=22.2.0 in /usr/local/lib/python3.11/dist-packages (from jsonschema>=4.18.0->jupyterlab-server<3,>=2.3.0->voila) (24.3.0)\n",
            "Requirement already satisfied: jsonschema-specifications>=2023.03.6 in /usr/local/lib/python3.11/dist-packages (from jsonschema>=4.18.0->jupyterlab-server<3,>=2.3.0->voila) (2024.10.1)\n",
            "Requirement already satisfied: referencing>=0.28.4 in /usr/local/lib/python3.11/dist-packages (from jsonschema>=4.18.0->jupyterlab-server<3,>=2.3.0->voila) (0.36.1)\n",
            "Requirement already satisfied: rpds-py>=0.7.1 in /usr/local/lib/python3.11/dist-packages (from jsonschema>=4.18.0->jupyterlab-server<3,>=2.3.0->voila) (0.22.3)\n",
            "Requirement already satisfied: fastjsonschema>=2.15 in /usr/local/lib/python3.11/dist-packages (from nbformat>=5.2.0->jupyter-server<3,>=1.18->voila) (2.21.1)\n",
            "Requirement already satisfied: six>=1.5 in /usr/local/lib/python3.11/dist-packages (from python-dateutil>=2.8.2->jupyter-client<9,>=7.4.4->voila) (1.17.0)\n",
            "Requirement already satisfied: charset-normalizer<4,>=2 in /usr/local/lib/python3.11/dist-packages (from requests>=2.31->jupyterlab-server<3,>=2.3.0->voila) (3.4.1)\n",
            "Requirement already satisfied: urllib3<3,>=1.21.1 in /usr/local/lib/python3.11/dist-packages (from requests>=2.31->jupyterlab-server<3,>=2.3.0->voila) (2.3.0)\n",
            "Requirement already satisfied: certifi>=2017.4.17 in /usr/local/lib/python3.11/dist-packages (from requests>=2.31->jupyterlab-server<3,>=2.3.0->voila) (2024.12.14)\n",
            "Requirement already satisfied: ptyprocess in /usr/local/lib/python3.11/dist-packages (from terminado>=0.8.3->jupyter-server<3,>=1.18->voila) (0.7.0)\n",
            "Requirement already satisfied: argon2-cffi-bindings in /usr/local/lib/python3.11/dist-packages (from argon2-cffi->jupyter-server<3,>=1.18->voila) (21.2.0)\n",
            "Requirement already satisfied: soupsieve>1.2 in /usr/local/lib/python3.11/dist-packages (from beautifulsoup4->nbconvert<8,>=6.4.5->voila) (2.6)\n",
            "Requirement already satisfied: typing-extensions>=4.4.0 in /usr/local/lib/python3.11/dist-packages (from referencing>=0.28.4->jsonschema>=4.18.0->jupyterlab-server<3,>=2.3.0->voila) (4.12.2)\n",
            "Requirement already satisfied: cffi>=1.0.1 in /usr/local/lib/python3.11/dist-packages (from argon2-cffi-bindings->argon2-cffi->jupyter-server<3,>=1.18->voila) (1.17.1)\n",
            "Requirement already satisfied: pycparser in /usr/local/lib/python3.11/dist-packages (from cffi>=1.0.1->argon2-cffi-bindings->argon2-cffi->jupyter-server<3,>=1.18->voila) (2.22)\n",
            "Downloading voila-0.5.8-py3-none-any.whl (4.5 MB)\n",
            "\u001b[2K   \u001b[90m━━━━━━━━━━━━━━━━━━━━━━━━━━━━━━━━━━━━━━━━\u001b[0m \u001b[32m4.5/4.5 MB\u001b[0m \u001b[31m19.1 MB/s\u001b[0m eta \u001b[36m0:00:00\u001b[0m\n",
            "\u001b[?25hDownloading jupyter_client-8.6.3-py3-none-any.whl (106 kB)\n",
            "\u001b[2K   \u001b[90m━━━━━━━━━━━━━━━━━━━━━━━━━━━━━━━━━━━━━━━━\u001b[0m \u001b[32m106.1/106.1 kB\u001b[0m \u001b[31m4.6 MB/s\u001b[0m eta \u001b[36m0:00:00\u001b[0m\n",
            "\u001b[?25hDownloading jupyterlab_server-2.27.3-py3-none-any.whl (59 kB)\n",
            "\u001b[2K   \u001b[90m━━━━━━━━━━━━━━━━━━━━━━━━━━━━━━━━━━━━━━━━\u001b[0m \u001b[32m59.7/59.7 kB\u001b[0m \u001b[31m3.4 MB/s\u001b[0m eta \u001b[36m0:00:00\u001b[0m\n",
            "\u001b[?25hDownloading json5-0.10.0-py3-none-any.whl (34 kB)\n",
            "Installing collected packages: json5, jupyter-client, jupyterlab-server, voila\n",
            "  Attempting uninstall: jupyter-client\n",
            "    Found existing installation: jupyter-client 6.1.12\n",
            "    Uninstalling jupyter-client-6.1.12:\n",
            "      Successfully uninstalled jupyter-client-6.1.12\n",
            "\u001b[31mERROR: pip's dependency resolver does not currently take into account all the packages that are installed. This behaviour is the source of the following dependency conflicts.\n",
            "notebook 6.5.5 requires jupyter-client<8,>=5.3.4, but you have jupyter-client 8.6.3 which is incompatible.\u001b[0m\u001b[31m\n",
            "\u001b[0mSuccessfully installed json5-0.10.0 jupyter-client-8.6.3 jupyterlab-server-2.27.3 voila-0.5.8\n",
            "Enabling: voila\n",
            "- Writing config: /usr/etc/jupyter\n",
            "    - Validating...\n",
            "      voila 0.5.8 \u001b[32mOK\u001b[0m\n"
          ]
        }
      ],
      "source": [
        "!pip install voila\n",
        "!jupyter serverextension enable --sys-prefix voila"
      ]
    },
    {
      "cell_type": "code",
      "execution_count": 3,
      "metadata": {
        "id": "5F0Bpfxbp2HB"
      },
      "outputs": [],
      "source": [
        "from fastai.vision.all import *\n",
        "from fastai.vision.widgets import *"
      ]
    },
    {
      "cell_type": "code",
      "execution_count": 8,
      "metadata": {
        "id": "1Ll80j3op2HC",
        "outputId": "8b7d6e8e-3534-448b-d9e6-5ef263faf1e0",
        "colab": {
          "base_uri": "https://localhost:8080/",
          "height": 34
        }
      },
      "outputs": [
        {
          "output_type": "stream",
          "name": "stdout",
          "text": [
            ".\n"
          ]
        }
      ],
      "source": [
        "path = Path()\n",
        "print(path)\n",
        "learn_inf = load_learner(path/'export.pkl', cpu=True)\n",
        "btn_upload = widgets.FileUpload()\n",
        "out_pl = widgets.Output()\n",
        "lbl_pred = widgets.Label()"
      ]
    },
    {
      "cell_type": "code",
      "execution_count": 9,
      "metadata": {
        "id": "njs0-ko9p2HD"
      },
      "outputs": [],
      "source": [
        "def on_data_change(change):\n",
        "    lbl_pred.value = ''\n",
        "    img = PILImage.create(btn_upload.data[-1])\n",
        "    out_pl.clear_output()\n",
        "    with out_pl: display(img.to_thumb(128,128))\n",
        "    pred,pred_idx,probs = learn_inf.predict(img)\n",
        "    lbl_pred.value = f'Prediction: {pred}; Probability: {probs[pred_idx]:.04f}'"
      ]
    },
    {
      "cell_type": "code",
      "execution_count": 10,
      "metadata": {
        "id": "_JI7CmJMp2HD"
      },
      "outputs": [],
      "source": [
        "btn_upload.observe(on_data_change, names=['data'])"
      ]
    },
    {
      "cell_type": "code",
      "execution_count": 11,
      "metadata": {
        "scrolled": false,
        "id": "nSGVFkC8p2HD",
        "outputId": "7052bd3c-2a7a-406c-ba41-6ff96a6e74ab",
        "colab": {
          "base_uri": "https://localhost:8080/",
          "height": 236,
          "referenced_widgets": [
            "a5f5e4339b4e4867a8054a920124bf80",
            "4a57c32f341244708e8294a86ced679c",
            "4f87dd51e5cd480f96d2e99e088bf33a",
            "ba84bd53fac94abebe6a2cdf6a8c7f9c",
            "5e136afda29e43b9bddb7303e65d7ef5",
            "f8b767d5384e46cca7faba0437987551",
            "75989c9430c64859880544e156f7deca",
            "2faea5c4cd33470f82a7aa2cbf4f7b8c",
            "b6a27d7517744941a4554a3a62705050",
            "d72a497504dd407da389c506bd3640c8",
            "77c4c4f2bf2d482ea588f0ffd6e8aaa2",
            "8d505abc1d9f428dbde9801db4628645",
            "58b4dbedc17c49f7b865ad927e872e3d"
          ]
        }
      },
      "outputs": [
        {
          "output_type": "display_data",
          "data": {
            "text/plain": [
              "VBox(children=(Label(value='Select your banana!'), FileUpload(value={}, description='Upload'), Output(), Label…"
            ],
            "application/vnd.jupyter.widget-view+json": {
              "version_major": 2,
              "version_minor": 0,
              "model_id": "a5f5e4339b4e4867a8054a920124bf80"
            }
          },
          "metadata": {}
        },
        {
          "output_type": "display_data",
          "data": {
            "text/plain": [
              "<IPython.core.display.HTML object>"
            ],
            "text/html": [
              "\n",
              "<style>\n",
              "    /* Turns off some styling */\n",
              "    progress {\n",
              "        /* gets rid of default border in Firefox and Opera. */\n",
              "        border: none;\n",
              "        /* Needs to be in here for Safari polyfill so background images work as expected. */\n",
              "        background-size: auto;\n",
              "    }\n",
              "    progress:not([value]), progress:not([value])::-webkit-progress-bar {\n",
              "        background: repeating-linear-gradient(45deg, #7e7e7e, #7e7e7e 10px, #5c5c5c 10px, #5c5c5c 20px);\n",
              "    }\n",
              "    .progress-bar-interrupted, .progress-bar-interrupted::-webkit-progress-bar {\n",
              "        background: #F44336;\n",
              "    }\n",
              "</style>\n"
            ]
          },
          "metadata": {}
        },
        {
          "output_type": "display_data",
          "data": {
            "text/plain": [
              "<IPython.core.display.HTML object>"
            ],
            "text/html": []
          },
          "metadata": {}
        }
      ],
      "source": [
        "display(VBox([widgets.Label('Select your banana!'), btn_upload, out_pl, lbl_pred]))"
      ]
    }
  ],
  "metadata": {
    "jupytext": {
      "split_at_heading": true
    },
    "kernelspec": {
      "display_name": "Python 3",
      "language": "python",
      "name": "python3"
    },
    "language_info": {
      "codemirror_mode": {
        "name": "ipython",
        "version": 3
      },
      "file_extension": ".py",
      "mimetype": "text/x-python",
      "name": "python",
      "nbconvert_exporter": "python",
      "pygments_lexer": "ipython3",
      "version": "3.7.7"
    },
    "toc": {
      "base_numbering": 1,
      "nav_menu": {},
      "number_sections": false,
      "sideBar": true,
      "skip_h1_title": true,
      "title_cell": "Table of Contents",
      "title_sidebar": "Contents",
      "toc_cell": false,
      "toc_position": {},
      "toc_section_display": true,
      "toc_window_display": false
    },
    "colab": {
      "provenance": [],
      "include_colab_link": true
    },
    "widgets": {
      "application/vnd.jupyter.widget-state+json": {
        "a5f5e4339b4e4867a8054a920124bf80": {
          "model_module": "@jupyter-widgets/controls",
          "model_name": "VBoxModel",
          "model_module_version": "1.5.0",
          "state": {
            "_dom_classes": [],
            "_model_module": "@jupyter-widgets/controls",
            "_model_module_version": "1.5.0",
            "_model_name": "VBoxModel",
            "_view_count": null,
            "_view_module": "@jupyter-widgets/controls",
            "_view_module_version": "1.5.0",
            "_view_name": "VBoxView",
            "box_style": "",
            "children": [
              "IPY_MODEL_4a57c32f341244708e8294a86ced679c",
              "IPY_MODEL_4f87dd51e5cd480f96d2e99e088bf33a",
              "IPY_MODEL_ba84bd53fac94abebe6a2cdf6a8c7f9c",
              "IPY_MODEL_5e136afda29e43b9bddb7303e65d7ef5"
            ],
            "layout": "IPY_MODEL_f8b767d5384e46cca7faba0437987551"
          }
        },
        "4a57c32f341244708e8294a86ced679c": {
          "model_module": "@jupyter-widgets/controls",
          "model_name": "LabelModel",
          "model_module_version": "1.5.0",
          "state": {
            "_dom_classes": [],
            "_model_module": "@jupyter-widgets/controls",
            "_model_module_version": "1.5.0",
            "_model_name": "LabelModel",
            "_view_count": null,
            "_view_module": "@jupyter-widgets/controls",
            "_view_module_version": "1.5.0",
            "_view_name": "LabelView",
            "description": "",
            "description_tooltip": null,
            "layout": "IPY_MODEL_75989c9430c64859880544e156f7deca",
            "placeholder": "​",
            "style": "IPY_MODEL_2faea5c4cd33470f82a7aa2cbf4f7b8c",
            "value": "Select your banana!"
          }
        },
        "4f87dd51e5cd480f96d2e99e088bf33a": {
          "model_module": "@jupyter-widgets/controls",
          "model_name": "FileUploadModel",
          "model_module_version": "1.5.0",
          "state": {
            "_counter": 1,
            "_dom_classes": [],
            "_model_module": "@jupyter-widgets/controls",
            "_model_module_version": "1.5.0",
            "_model_name": "FileUploadModel",
            "_view_count": null,
            "_view_module": "@jupyter-widgets/controls",
            "_view_module_version": "1.5.0",
            "_view_name": "FileUploadView",
            "accept": "",
            "button_style": "",
            "data": [
              null
            ],
            "description": "Upload",
            "description_tooltip": null,
            "disabled": false,
            "error": "",
            "icon": "upload",
            "layout": "IPY_MODEL_b6a27d7517744941a4554a3a62705050",
            "metadata": [
              {
                "name": "bananas.jpg",
                "type": "image/jpeg",
                "size": 51799,
                "lastModified": 1737926557871
              }
            ],
            "multiple": false,
            "style": "IPY_MODEL_d72a497504dd407da389c506bd3640c8"
          }
        },
        "ba84bd53fac94abebe6a2cdf6a8c7f9c": {
          "model_module": "@jupyter-widgets/output",
          "model_name": "OutputModel",
          "model_module_version": "1.0.0",
          "state": {
            "_dom_classes": [],
            "_model_module": "@jupyter-widgets/output",
            "_model_module_version": "1.0.0",
            "_model_name": "OutputModel",
            "_view_count": null,
            "_view_module": "@jupyter-widgets/output",
            "_view_module_version": "1.0.0",
            "_view_name": "OutputView",
            "layout": "IPY_MODEL_58b4dbedc17c49f7b865ad927e872e3d",
            "msg_id": "",
            "outputs": [
              {
                "output_type": "display_data",
                "data": {
                  "text/plain": "<PIL.Image.Image image mode=RGB size=128x123>",
                  "image/png": "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\n",
                  "image/jpeg": "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\n"
                },
                "metadata": {}
              }
            ]
          }
        },
        "5e136afda29e43b9bddb7303e65d7ef5": {
          "model_module": "@jupyter-widgets/controls",
          "model_name": "LabelModel",
          "model_module_version": "1.5.0",
          "state": {
            "_dom_classes": [],
            "_model_module": "@jupyter-widgets/controls",
            "_model_module_version": "1.5.0",
            "_model_name": "LabelModel",
            "_view_count": null,
            "_view_module": "@jupyter-widgets/controls",
            "_view_module_version": "1.5.0",
            "_view_name": "LabelView",
            "description": "",
            "description_tooltip": null,
            "layout": "IPY_MODEL_77c4c4f2bf2d482ea588f0ffd6e8aaa2",
            "placeholder": "​",
            "style": "IPY_MODEL_8d505abc1d9f428dbde9801db4628645",
            "value": "Prediction: yellow; Probability: 0.5497"
          }
        },
        "f8b767d5384e46cca7faba0437987551": {
          "model_module": "@jupyter-widgets/base",
          "model_name": "LayoutModel",
          "model_module_version": "1.2.0",
          "state": {
            "_model_module": "@jupyter-widgets/base",
            "_model_module_version": "1.2.0",
            "_model_name": "LayoutModel",
            "_view_count": null,
            "_view_module": "@jupyter-widgets/base",
            "_view_module_version": "1.2.0",
            "_view_name": "LayoutView",
            "align_content": null,
            "align_items": null,
            "align_self": null,
            "border": null,
            "bottom": null,
            "display": null,
            "flex": null,
            "flex_flow": null,
            "grid_area": null,
            "grid_auto_columns": null,
            "grid_auto_flow": null,
            "grid_auto_rows": null,
            "grid_column": null,
            "grid_gap": null,
            "grid_row": null,
            "grid_template_areas": null,
            "grid_template_columns": null,
            "grid_template_rows": null,
            "height": null,
            "justify_content": null,
            "justify_items": null,
            "left": null,
            "margin": null,
            "max_height": null,
            "max_width": null,
            "min_height": null,
            "min_width": null,
            "object_fit": null,
            "object_position": null,
            "order": null,
            "overflow": null,
            "overflow_x": null,
            "overflow_y": null,
            "padding": null,
            "right": null,
            "top": null,
            "visibility": null,
            "width": null
          }
        },
        "75989c9430c64859880544e156f7deca": {
          "model_module": "@jupyter-widgets/base",
          "model_name": "LayoutModel",
          "model_module_version": "1.2.0",
          "state": {
            "_model_module": "@jupyter-widgets/base",
            "_model_module_version": "1.2.0",
            "_model_name": "LayoutModel",
            "_view_count": null,
            "_view_module": "@jupyter-widgets/base",
            "_view_module_version": "1.2.0",
            "_view_name": "LayoutView",
            "align_content": null,
            "align_items": null,
            "align_self": null,
            "border": null,
            "bottom": null,
            "display": null,
            "flex": null,
            "flex_flow": null,
            "grid_area": null,
            "grid_auto_columns": null,
            "grid_auto_flow": null,
            "grid_auto_rows": null,
            "grid_column": null,
            "grid_gap": null,
            "grid_row": null,
            "grid_template_areas": null,
            "grid_template_columns": null,
            "grid_template_rows": null,
            "height": null,
            "justify_content": null,
            "justify_items": null,
            "left": null,
            "margin": null,
            "max_height": null,
            "max_width": null,
            "min_height": null,
            "min_width": null,
            "object_fit": null,
            "object_position": null,
            "order": null,
            "overflow": null,
            "overflow_x": null,
            "overflow_y": null,
            "padding": null,
            "right": null,
            "top": null,
            "visibility": null,
            "width": null
          }
        },
        "2faea5c4cd33470f82a7aa2cbf4f7b8c": {
          "model_module": "@jupyter-widgets/controls",
          "model_name": "DescriptionStyleModel",
          "model_module_version": "1.5.0",
          "state": {
            "_model_module": "@jupyter-widgets/controls",
            "_model_module_version": "1.5.0",
            "_model_name": "DescriptionStyleModel",
            "_view_count": null,
            "_view_module": "@jupyter-widgets/base",
            "_view_module_version": "1.2.0",
            "_view_name": "StyleView",
            "description_width": ""
          }
        },
        "b6a27d7517744941a4554a3a62705050": {
          "model_module": "@jupyter-widgets/base",
          "model_name": "LayoutModel",
          "model_module_version": "1.2.0",
          "state": {
            "_model_module": "@jupyter-widgets/base",
            "_model_module_version": "1.2.0",
            "_model_name": "LayoutModel",
            "_view_count": null,
            "_view_module": "@jupyter-widgets/base",
            "_view_module_version": "1.2.0",
            "_view_name": "LayoutView",
            "align_content": null,
            "align_items": null,
            "align_self": null,
            "border": null,
            "bottom": null,
            "display": null,
            "flex": null,
            "flex_flow": null,
            "grid_area": null,
            "grid_auto_columns": null,
            "grid_auto_flow": null,
            "grid_auto_rows": null,
            "grid_column": null,
            "grid_gap": null,
            "grid_row": null,
            "grid_template_areas": null,
            "grid_template_columns": null,
            "grid_template_rows": null,
            "height": null,
            "justify_content": null,
            "justify_items": null,
            "left": null,
            "margin": null,
            "max_height": null,
            "max_width": null,
            "min_height": null,
            "min_width": null,
            "object_fit": null,
            "object_position": null,
            "order": null,
            "overflow": null,
            "overflow_x": null,
            "overflow_y": null,
            "padding": null,
            "right": null,
            "top": null,
            "visibility": null,
            "width": null
          }
        },
        "d72a497504dd407da389c506bd3640c8": {
          "model_module": "@jupyter-widgets/controls",
          "model_name": "ButtonStyleModel",
          "model_module_version": "1.5.0",
          "state": {
            "_model_module": "@jupyter-widgets/controls",
            "_model_module_version": "1.5.0",
            "_model_name": "ButtonStyleModel",
            "_view_count": null,
            "_view_module": "@jupyter-widgets/base",
            "_view_module_version": "1.2.0",
            "_view_name": "StyleView",
            "button_color": null,
            "font_weight": ""
          }
        },
        "77c4c4f2bf2d482ea588f0ffd6e8aaa2": {
          "model_module": "@jupyter-widgets/base",
          "model_name": "LayoutModel",
          "model_module_version": "1.2.0",
          "state": {
            "_model_module": "@jupyter-widgets/base",
            "_model_module_version": "1.2.0",
            "_model_name": "LayoutModel",
            "_view_count": null,
            "_view_module": "@jupyter-widgets/base",
            "_view_module_version": "1.2.0",
            "_view_name": "LayoutView",
            "align_content": null,
            "align_items": null,
            "align_self": null,
            "border": null,
            "bottom": null,
            "display": null,
            "flex": null,
            "flex_flow": null,
            "grid_area": null,
            "grid_auto_columns": null,
            "grid_auto_flow": null,
            "grid_auto_rows": null,
            "grid_column": null,
            "grid_gap": null,
            "grid_row": null,
            "grid_template_areas": null,
            "grid_template_columns": null,
            "grid_template_rows": null,
            "height": null,
            "justify_content": null,
            "justify_items": null,
            "left": null,
            "margin": null,
            "max_height": null,
            "max_width": null,
            "min_height": null,
            "min_width": null,
            "object_fit": null,
            "object_position": null,
            "order": null,
            "overflow": null,
            "overflow_x": null,
            "overflow_y": null,
            "padding": null,
            "right": null,
            "top": null,
            "visibility": null,
            "width": null
          }
        },
        "8d505abc1d9f428dbde9801db4628645": {
          "model_module": "@jupyter-widgets/controls",
          "model_name": "DescriptionStyleModel",
          "model_module_version": "1.5.0",
          "state": {
            "_model_module": "@jupyter-widgets/controls",
            "_model_module_version": "1.5.0",
            "_model_name": "DescriptionStyleModel",
            "_view_count": null,
            "_view_module": "@jupyter-widgets/base",
            "_view_module_version": "1.2.0",
            "_view_name": "StyleView",
            "description_width": ""
          }
        },
        "58b4dbedc17c49f7b865ad927e872e3d": {
          "model_module": "@jupyter-widgets/base",
          "model_name": "LayoutModel",
          "model_module_version": "1.2.0",
          "state": {
            "_model_module": "@jupyter-widgets/base",
            "_model_module_version": "1.2.0",
            "_model_name": "LayoutModel",
            "_view_count": null,
            "_view_module": "@jupyter-widgets/base",
            "_view_module_version": "1.2.0",
            "_view_name": "LayoutView",
            "align_content": null,
            "align_items": null,
            "align_self": null,
            "border": null,
            "bottom": null,
            "display": null,
            "flex": null,
            "flex_flow": null,
            "grid_area": null,
            "grid_auto_columns": null,
            "grid_auto_flow": null,
            "grid_auto_rows": null,
            "grid_column": null,
            "grid_gap": null,
            "grid_row": null,
            "grid_template_areas": null,
            "grid_template_columns": null,
            "grid_template_rows": null,
            "height": null,
            "justify_content": null,
            "justify_items": null,
            "left": null,
            "margin": null,
            "max_height": null,
            "max_width": null,
            "min_height": null,
            "min_width": null,
            "object_fit": null,
            "object_position": null,
            "order": null,
            "overflow": null,
            "overflow_x": null,
            "overflow_y": null,
            "padding": null,
            "right": null,
            "top": null,
            "visibility": null,
            "width": null
          }
        }
      }
    }
  },
  "nbformat": 4,
  "nbformat_minor": 0
}